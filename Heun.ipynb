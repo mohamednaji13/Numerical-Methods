{
 "cells": [
  {
   "cell_type": "code",
   "execution_count": 3,
   "metadata": {},
   "outputs": [],
   "source": [
    "import numpy as np\n",
    "import matplotlib.pyplot as plt"
   ]
  },
  {
   "cell_type": "markdown",
   "metadata": {},
   "source": [
    "## Heun's Method:\n",
    "\n",
    "$y_{k+1}=y_k+hf(t_{k},y_{k})$\n",
    "   \n",
    "$y_{k+1}=y_k+\\frac{h}{2}(f(t_{k},y_{k})+f(t_{k+1},y_{k+1})$\n",
    "\n",
    "Consider the initial value problem:\n",
    "\n",
    "$x''+26x'+25x=50cos(5t), x(0) = 10 , x'(0)=0$\n",
    "\n",
    "with exact solution:\n",
    "\n",
    "$x(t) = \\frac{1075}{104}e^{-t}- \\frac{35}{104}e^{-25t}+\\frac{5}{13}sin(5t)$\n",
    "\n",
    "To apply our numerical methods we convert to the first order system initial value problem:\n",
    "\n",
    "$y' = \\begin{bmatrix} 0 & 1 \\\\ -25 & -26\\end{bmatrix}y + \\begin{bmatrix} 0\\\\50cos(5t)\\end{bmatrix}, y(0)=\\begin{bmatrix}10\\\\ {0} \\end{bmatrix}$\n",
    "\n"
   ]
  },
  {
   "cell_type": "code",
   "execution_count": 4,
   "metadata": {},
   "outputs": [],
   "source": [
    "def heun(h,n,t0,y0,f):\n",
    "    Y = np.zeros((len(y0),n+1))\n",
    "    tk=t0\n",
    "    Y[:,0]= y0\n",
    "    for k in range(0,n):\n",
    "        f1 = Y[:,k] + h*f(tk,Y[:,k])\n",
    "\n",
    "        Y[:,k+1] = Y[:,k] + (h/2.0)*(f(tk,Y[:,k]) + f(tk+h,f1))\n",
    "        tk += h\n",
    "\n",
    "    return Y\n",
    "\n",
    "def f(t,y):\n",
    "    A = np.array([[0,1],[-25,-26]])\n",
    "    b = np.array([0,50*np.cos(5*t)])\n",
    "    return A @ y + b\n",
    "\n",
    "def exact(t):\n",
    "    return (1075/104)*np.exp(-t) - (35/104)*np.exp(-25*t) + (5/13)*np.sin(5*t) "
   ]
  },
  {
   "cell_type": "code",
   "execution_count": 5,
   "metadata": {},
   "outputs": [
    {
     "data": {
      "text/plain": [
       "[<matplotlib.lines.Line2D at 0x7fa560701ac0>]"
      ]
     },
     "execution_count": 5,
     "metadata": {},
     "output_type": "execute_result"
    },
    {
     "data": {
      "image/png": "[encoded data removed]",
      "text/plain": [
       "<Figure size 432x288 with 1 Axes>"
      ]
     },
     "metadata": {
      "needs_background": "light"
     },
     "output_type": "display_data"
    }
   ],
   "source": [
    "t_0 = 0\n",
    "t_n = 10\n",
    "h = .05\n",
    "t_exact = np.linspace(t_0,t_n,1000)\n",
    "x_exact = exact(t_exact)\n",
    "plt.plot(t_exact,x_exact)\n",
    "y0 = np.array([10,0])\n",
    "n = int(t_n/h)\n",
    "t_approx = np.array(range(0,n+1))*h\n",
    "Y = heun(h,n,t_0,y0,f)\n",
    "plt.plot(t_approx,Y[0],'.')"
   ]
  },
  {
   "cell_type": "code",
   "execution_count": 6,
   "metadata": {},
   "outputs": [
    {
     "data": {
      "text/plain": [
       "[<matplotlib.lines.Line2D at 0x7fa56081f3a0>]"
      ]
     },
     "execution_count": 6,
     "metadata": {},
     "output_type": "execute_result"
    },
    {
     "data": {
      "image/png": "[encoded data removed]",
      "text/plain": [
       "<Figure size 432x288 with 1 Axes>"
      ]
     },
     "metadata": {
      "needs_background": "light"
     },
     "output_type": "display_data"
    }
   ],
   "source": [
    "t_0 = 0\n",
    "t_n = 10\n",
    "h = .1\n",
    "t_exact = np.linspace(t_0,t_n,1000)\n",
    "x_exact = exact(t_exact)\n",
    "plt.plot(t_exact,x_exact)\n",
    "y0 = np.array([10,0])\n",
    "n = int(t_n/h)\n",
    "t_approx = np.array(range(0,n+1))*h\n",
    "Y = heun(h,n,t_0,y0,f)\n",
    "plt.plot(t_approx,Y[0],'.')"
   ]
  },
  {
   "cell_type": "code",
   "execution_count": null,
   "metadata": {},
   "outputs": [],
   "source": []
  }
 ],
 "metadata": {
  "kernelspec": {
   "display_name": "Python 3",
   "language": "python",
   "name": "python3"
  },
  "language_info": {
   "codemirror_mode": {
    "name": "ipython",
    "version": 3
   },
   "file_extension": ".py",
   "mimetype": "text/x-python",
   "name": "python",
   "nbconvert_exporter": "python",
   "pygments_lexer": "ipython3",
   "version": "3.8.3"
  }
 },
 "nbformat": 4,
 "nbformat_minor": 4
}
