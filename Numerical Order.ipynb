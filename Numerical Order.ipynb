{
 "cells": [
  {
   "cell_type": "code",
   "execution_count": 1,
   "metadata": {},
   "outputs": [],
   "source": [
    "import numpy as np\n",
    "import matplotlib.pyplot as plt"
   ]
  },
  {
   "cell_type": "markdown",
   "metadata": {},
   "source": [
    "## Numerical Order :\n",
    "\n",
    "$‖y_n−y(10)‖$\n",
    "\n",
    "$h_1= 0.005$ and $h_2= 0.0025=h_1/2$\n",
    "\n",
    "For:\n",
    "\n",
    "$y' = \\begin{bmatrix} 0 & 1 \\\\ -25 & -26\\end{bmatrix}y + \\begin{bmatrix} 0\\\\50cos(5t)\\end{bmatrix}, y(0)=\\begin{bmatrix}10\\\\ {0} \\end{bmatrix}$"
   ]
  },
  {
   "cell_type": "code",
   "execution_count": 5,
   "metadata": {},
   "outputs": [],
   "source": [
    "def heun(h,n,t0,y0,f):\n",
    "    Y = np.zeros((len(y0),n+1))\n",
    "    tk=t0\n",
    "    Y[:,0]= y0\n",
    "    for k in range(0,n):\n",
    "        f1 = Y[:,k] + h*f(tk,Y[:,k])\n",
    "\n",
    "        Y[:,k+1] = Y[:,k] + (h/2.0)*(f(tk,Y[:,k]) + f(tk+h,f1))\n",
    "        tk += h\n",
    "\n",
    "    return Y\n",
    "\n",
    "def backward_euler_system_v2(h,n,t0,y0,A,b):\n",
    "    Y = np.zeros((len(y0),n+1))\n",
    "    tk=t0\n",
    "    Y[:,0]= y0\n",
    "    I = np.identity(len(y0))\n",
    "    for k in range(0,n):\n",
    "        Y[:,k+1] = np.linalg.inv(I-h*A) @ (Y[:,k] + h*b(tk+h))\n",
    "        tk += h \n",
    "    return Y\n",
    "\n",
    "def implicit_trapezoid_system_v2(h,n,t0,y0,A,b):\n",
    "    Y = np.zeros((len(y0),n+1))\n",
    "    tk=t0\n",
    "    Y[:,0]= y0\n",
    "    I2 = 2*np.identity(len(y0))\n",
    "    for k in range(0,n):\n",
    "        Y[:,k+1] = np.linalg.inv(I2-h*A) @ (((I2+h*A)@Y[:,k]) + h*(b(tk+h)+b(tk)))\n",
    "        tk += h\n",
    "    return Y\n",
    "\n",
    "def f(t,y):\n",
    "    A = np.array([[0,1],[-25,-26]])\n",
    "    b = np.array([0,50*np.cos(5*t)])\n",
    "    return A @ y + b\n",
    "\n",
    "def exact(t):\n",
    "    return (1075/104)*np.exp(-t) - (35/104)*np.exp(-25*t) + (5/13)*np.sin(5*t) \n",
    "\n",
    "def b(x):\n",
    "    return np.array([0,50*np.cos(5*x)])\n",
    "\n",
    "def exact_system(t):\n",
    "    x = (1075/104)*np.exp(-t) - (35/104)*np.exp(-25*t) + (5/13)*np.sin(5*t)\n",
    "    xp = (-1075/104)*np.exp(-t) + 25*(35/104)*np.exp(-25*t) + (25/13)*np.cos(5*t)\n",
    "    return np.array([x,xp])\n",
    "\n",
    "A = np.array([[0,1],[-25,-26]])\n",
    "y0 = np.array([10,0])"
   ]
  },
  {
   "cell_type": "markdown",
   "metadata": {},
   "source": [
    "### Backward Euler"
   ]
  },
  {
   "cell_type": "code",
   "execution_count": 11,
   "metadata": {},
   "outputs": [
    {
     "name": "stdout",
     "output_type": "stream",
     "text": [
      "Error of Backward Euler Method: 1.9952188032844524\n"
     ]
    }
   ],
   "source": [
    "t_0 = 0\n",
    "t_n = 10\n",
    "h1 = 0.005\n",
    "n1 = int(t_n/h1)\n",
    "h2 = 0.0025\n",
    "n2 = int(t_n/h2)\n",
    "Y1 = backward_euler_system_v2(h1,n1,t_0,y0,A,b)\n",
    "Y2 = backward_euler_system_v2(h2,n2,t_0,y0,A,b)\n",
    "error1 = np.linalg.norm(Y1[:,n1]-exact_system(10))\n",
    "error2 = np.linalg.norm(Y2[:,n2]-exact_system(10))\n",
    "print(\"Error of Backward Euler Method:\", error1/error2)"
   ]
  },
  {
   "cell_type": "markdown",
   "metadata": {},
   "source": [
    "The numerical order of Heun's method is $1$."
   ]
  },
  {
   "cell_type": "markdown",
   "metadata": {},
   "source": [
    "### Heun"
   ]
  },
  {
   "cell_type": "code",
   "execution_count": 10,
   "metadata": {},
   "outputs": [
    {
     "name": "stdout",
     "output_type": "stream",
     "text": [
      "Error of Backward Euler method: 4.120444680535217\n"
     ]
    }
   ],
   "source": [
    "t_0 = 0\n",
    "t_n = 10\n",
    "h1 = 0.005\n",
    "n1 = int(t_n/h1)\n",
    "h2 = 0.0025\n",
    "n2 = int(t_n/h2)\n",
    "Y1 = heun(h1,n1,t_0,y0,f)\n",
    "Y2 = heun(h2,n2,t_0,y0,f)\n",
    "error1 = np.linalg.norm(Y1[:,n1]-exact_system(10))\n",
    "error2 = np.linalg.norm(Y2[:,n2]-exact_system(10))\n",
    "print(\"Error of Heun's Method:\", error1/error2)"
   ]
  },
  {
   "cell_type": "markdown",
   "metadata": {},
   "source": [
    "The numerical order of Heun's method is $2$."
   ]
  },
  {
   "cell_type": "markdown",
   "metadata": {},
   "source": [
    "### Trapezoidal"
   ]
  },
  {
   "cell_type": "code",
   "execution_count": 13,
   "metadata": {},
   "outputs": [
    {
     "name": "stdout",
     "output_type": "stream",
     "text": [
      "Error of Trapezoidal Method:  4.000303487558616\n"
     ]
    }
   ],
   "source": [
    "t_0 = 0\n",
    "t_n = 10\n",
    "h1 = 0.005\n",
    "n1 = int(t_n/h1)\n",
    "h2 = 0.0025\n",
    "n2 = int(t_n/h2)\n",
    "Y1 = implicit_trapezoid_system_v2(h1,n1,t_0,y0,A,b)\n",
    "Y2 = implicit_trapezoid_system_v2(h2,n2,t_0,y0,A,b)\n",
    "error1 = np.linalg.norm(Y1[:,n1]-exact_system(10))\n",
    "error2 = np.linalg.norm(Y2[:,n2]-exact_system(10))\n",
    "print(\"Error of Trapezoidal Method: \", error1/error2)"
   ]
  },
  {
   "cell_type": "markdown",
   "metadata": {},
   "source": [
    "The numerical order of the Trapezoidal Method is $2$"
   ]
  },
  {
   "cell_type": "code",
   "execution_count": null,
   "metadata": {},
   "outputs": [],
   "source": []
  }
 ],
 "metadata": {
  "kernelspec": {
   "display_name": "Python 3",
   "language": "python",
   "name": "python3"
  },
  "language_info": {
   "codemirror_mode": {
    "name": "ipython",
    "version": 3
   },
   "file_extension": ".py",
   "mimetype": "text/x-python",
   "name": "python",
   "nbconvert_exporter": "python",
   "pygments_lexer": "ipython3",
   "version": "3.8.3"
  }
 },
 "nbformat": 4,
 "nbformat_minor": 4
}
